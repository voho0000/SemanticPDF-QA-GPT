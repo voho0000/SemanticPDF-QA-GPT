{
 "cells": [
  {
   "cell_type": "code",
   "execution_count": 1,
   "metadata": {},
   "outputs": [],
   "source": [
    "import pdfplumber\n",
    "from langchain.embeddings.openai import OpenAIEmbeddings\n",
    "from langchain.text_splitter import RecursiveCharacterTextSplitter\n",
    "from langchain.vectorstores import ElasticVectorSearch, Pinecone, Weaviate, FAISS\n",
    "\n",
    "\n",
    "from dotenv import load_dotenv\n",
    "import os\n",
    "\n",
    "# Load the .env file located in the project directory\n",
    "load_dotenv()\n",
    "os.environ[\"OPENAI_API_KEY\"] = os.getenv('OPENAI_API_KEY')"
   ]
  },
  {
   "cell_type": "code",
   "execution_count": 4,
   "metadata": {},
   "outputs": [],
   "source": [
    "\n",
    "# Change this to the local path where your PDF file is located.\n",
    "local_pdf_path = \"PDF/完整給付規定1120424.pdf\"\n",
    "\n",
    "with pdfplumber.open(local_pdf_path) as pdf:\n",
    "    raw_text = ''\n",
    "    for i, page in enumerate(pdf.pages):\n",
    "        text = page.extract_text()\n",
    "        if text:\n",
    "            raw_text += text\n",
    "\n",
    "# We need to split the text that we read into smaller chunks so that during information retreival we don't hit the token size limits. \n",
    "text_splitter = RecursiveCharacterTextSplitter(\n",
    "    separators=[\"。\", \"！\", \"？\", \"\\n\", \" \"],\n",
    "    chunk_size=800,\n",
    "    chunk_overlap=50,\n",
    "    length_function=len,\n",
    ")\n",
    "texts = text_splitter.split_text(raw_text)\n"
   ]
  },
  {
   "cell_type": "code",
   "execution_count": 8,
   "metadata": {},
   "outputs": [],
   "source": [
    "import pinecone\n",
    "embeddings = OpenAIEmbeddings()\n",
    "\n",
    "# initialize pinecone\n",
    "PINECONE_API_ENV = 'asia-southeast1-gcp-free'\n",
    "PINECONE_API_KEY = os.getenv('PINECONE_API_KEY')\n",
    "\n",
    "pinecone.init(\n",
    "    api_key=PINECONE_API_KEY,  # find at app.pinecone.io\n",
    "    environment=PINECONE_API_ENV  # next to api key in console\n",
    ")\n",
    "index_name = \"nhi\" # put in the name of your pinecone index here\n",
    "\n",
    "docsearch = Pinecone.from_texts(texts, embeddings, index_name=index_name)\n"
   ]
  },
  {
   "cell_type": "code",
   "execution_count": 2,
   "metadata": {},
   "outputs": [
    {
     "name": "stderr",
     "output_type": "stream",
     "text": [
      "/Users/kuoyihsin/opt/anaconda3/lib/python3.9/site-packages/pinecone/index.py:4: TqdmExperimentalWarning: Using `tqdm.autonotebook.tqdm` in notebook mode. Use `tqdm.tqdm` instead to force console mode (e.g. in jupyter console)\n",
      "  from tqdm.autonotebook import tqdm\n"
     ]
    }
   ],
   "source": [
    "import pinecone\n",
    "embeddings = OpenAIEmbeddings()\n",
    "\n",
    "# initialize pinecone\n",
    "PINECONE_API_ENV = 'asia-southeast1-gcp-free'\n",
    "PINECONE_API_KEY = os.getenv('PINECONE_API_KEY')\n",
    "\n",
    "pinecone.init(\n",
    "    api_key=PINECONE_API_KEY,  # find at app.pinecone.io\n",
    "    environment=PINECONE_API_ENV  # next to api key in console\n",
    ")\n",
    "index_name = \"nhi\" # put in the name of your pinecone index here\n",
    "\n",
    "docsearch = Pinecone.from_existing_index(index_name=index_name, embedding=embeddings)"
   ]
  },
  {
   "cell_type": "code",
   "execution_count": 48,
   "metadata": {},
   "outputs": [],
   "source": [
    "from langchain.chat_models import ChatOpenAI, AzureChatOpenAI\n",
    "from langchain.schema import SystemMessage, HumanMessage, AIMessage\n",
    "from langchain.memory import ConversationBufferMemory\n",
    "from dotenv import load_dotenv\n",
    "\n",
    "def answer_question(docs, user_question, useAzure = False):\n",
    "    # add Azure gpt-4 api support in the future\n",
    "    if useAzure:\n",
    "        load_dotenv()\n",
    "        os.environ[\"OPENAI_API_TYPE\"] = \"azure\"\n",
    "        os.environ[\"OPENAI_API_VERSION\"] = \"2023-03-15-preview\"\n",
    "        os.environ[\"OPENAI_API_BASE\"] = \"https://user1-create-gpt.openai.azure.com/\" \n",
    "        os.environ[\"OPENAI_API_KEY\"] = os.getenv(\"AZURE_API_KEY\")\n",
    "        chat = AzureChatOpenAI(deployment_name=\"gpt-4\", openai_api_version=\"2023-03-15-preview\")\n",
    "        # chat = AzureChatOpenAI(deployment_name=\"gpt-35-turbo\", openai_api_version=\"2023-03-15-preview\")\n",
    "    else:\n",
    "        chat = ChatOpenAI(temperature=0.1)\n",
    "\n",
    "    messages = [SystemMessage(\n",
    "        content=\"You are a helpful bot. If needed, you can use the following document to help you answer the question.\")]\n",
    "\n",
    "    # Add the relevant documents to the chat context\n",
    "    for i, doc in enumerate(docs):\n",
    "        messages.append(SystemMessage(content=f\"Document {i+1}: {doc}\"))\n",
    "\n",
    "    messages.append(HumanMessage(content=user_question))\n",
    "\n",
    "    response = chat(messages).content\n",
    "    messages.append(AIMessage(content=response))\n",
    "\n",
    "    return response"
   ]
  },
  {
   "cell_type": "code",
   "execution_count": 24,
   "metadata": {},
   "outputs": [
    {
     "data": {
      "text/plain": [
       "[Document(page_content='2.急性 Q 波心肌梗塞於症狀發生十二小時內，於執行 PTCA 時得併用\\neptifibatide。\\n2.1.1.8.Clopidogrel-acetylsalicylic acid（如 CoPlavix）：(100/9/1、\\n101/12/1)\\n1.置放金屬支架3個月內得使用；置放塗藥支架6個月內得使用。需於病歷註明支\\n架置放手術之日期。(100/9/1、101/12/1)\\n2.置放金屬支架後發生支架內再狹窄而施行藥物釋放型冠狀動脈氣球導管者，1\\n個月內得使用；置放塗藥支架後發生支架內再狹窄而施行藥物釋放型冠狀動脈\\n氣球導管者，使用期間可再延長1個月。(101/12/1)\\n3.用於已發作之急性冠心症(不穩定性心絞痛和心肌梗塞)而住院的病人時，最長\\n9個月。需於病歷註明住院時間。（100/9/1）\\n2.1.1.9.Ticagrelor（如 Brilinta）：(102/7/1)\\n限用於已發作之急性冠心症(包括不穩定型心絞痛、非 ST 段上升型心肌梗塞或\\nST 段上升型心肌梗塞)而住院的病人時，得與 acetylsalicylic acid (如\\nAspirin) 合併治療，最長9個月。需於病歷註明住院時間。\\n2.1.1.10. Prasugrel（如 Efient）：(107/11/1)\\n限用於需要冠狀動脈介入性治療(PCI)的已發作之急性冠心症(包括不穩定型心\\n絞痛、非 ST 段上升型心肌梗塞或 ST 段上升型心肌梗塞)而住院的病人時，得\\n與 acetylsalicylic acid (如 Aspirin) 合併治療，最長12個月。需於病歷註\\n明住院時間', metadata={}),\n",
       " Document(page_content='(2)第1日至21日，每日早晚各一次，每次限用一粒。\\n(3)第22日起，每日一次，每次限用一粒，每6個月評估一次。\\n4.Rivaroxaban 2.5mg 與 aspirin 併用，可用於發生缺血事件高危險族群之冠狀\\n動脈(CAD)或症狀性周邊動脈疾病(PAD)病人，以預防動脈粥狀硬化血栓形成事\\n件(Atherothrombotic events)：(110/7/1)\\n(1)高風險的冠狀動脈硬化須符合：2年內發生2次(含)以上心血管事件(如心肌\\n梗塞、接受冠狀動脈或其他動脈血管再通術 (revascularization)、動脈硬化\\n相關之缺血性腦中風)。\\n(2)高風險的症狀性周邊動脈硬化須符合下列條件之一：\\nⅠ.曾經接受過主動脈股動脈(aorto-femoral)或下肢繞道手術；髂動脈、股動\\n脈及膝下動脈(iliac or infrainguinal)接受經皮動脈血管造型整形術\\n(PTA)。\\nⅡ.下肢或足部因動脈血管疾病所造成的截肢或壞疽。\\nⅢ.有間歇性跛行的病史並經血管攝影術有顯著的周邊動脈狹窄(>50%)。如果\\n病人不適合使用顯影劑(例如有顯影劑過敏史或腎功能不全(eGFR<\\n45mL/min/1.73m2或 serum creatinine≥1.5mg/dL)，則須有都普勒超音波等\\n非侵入性測試有顯著的周邊動脈狹窄(>50%)。\\n(3)限 Rivaroxaban 2.5mg，每日2次，每次限用1粒。\\n(4)不得合併雙重抗血小板(DAPT)藥物、P2Y12抑制劑(如 clopidogrel、\\nticagrelor 或 prasugrel)、cilostazol 或其他抗凝血劑(anti-\\ncoagulant，如 warfarin)', metadata={}),\n",
       " Document(page_content='2.1.4.其他抗血栓劑 Other antithrombotic agents：(100/7/1)\\n27(112.04.24更新)\\n2.1.4.1. Fondaparinux（如 Arixtra）： (100/4/1、100/7/1、103/2/1、111/2/1、\\n111/3/1)\\n限用於\\n1.治療 ST 段升高型心肌梗塞(STEMI)的急性冠狀症候群之病患，藉以預防使用血\\n栓溶解劑治療或原先即不準備接受任何其它型式之再灌流治療的患者發生死亡\\n和心肌再度梗塞。\\n2.治療60歲以上患有不穩定型心絞痛或非 ST 段升高型心肌梗塞(UA/NSTEMI)且不\\n適合接受緊急(120分鐘內)侵入性治療(PCI)者，其症狀開始時間需在24小時之\\n內，且血清肌酸酐需小於3.0 mg/dL。(103/2/1、111/2/1)\\n3.靜脈血栓高危險（符合下列條件之一）病患，接受人工髖或膝關節置換術或再\\n置換術後，預防其術後之靜脈血栓(VTE)，限用2.5 mg 針劑皮下注射，每日一\\n劑，最多5週：(103/2/1、111/3/1)\\n(1)曾發生有症狀之靜脈血栓症病史（須於病歷詳細說明發生之時間與診療過\\n程）之病患。\\n(2)經靜脈超音波檢查（Venous ultrasonography）或靜脈攝影\\n（Venography），診斷為靜脈血栓症之病患', metadata={}),\n",
       " Document(page_content='2.原則上本類製劑與 acetylsalicylic acid (Aspirin) 不宜合併使用，僅於冠\\n狀動脈支架植入術後三個月內，得依病情需要合併使用。(87/4/1、90/1/1）\\n3.申報費用時需註明放置支架 (stent) 之日期。（87/4/1、90/1/1、100/7/1)\\n2.1.1.3.Tirofiban (如 Aggrastat)：（91/2/1、99/10/1、100/7/1)\\n1.限不穩定型心絞痛，對傳統療法無反應者，已預定施行經冠狀動脈成形術之不\\n穩定狹心症時，作為 heparin 的輔助療法，或非 Q 波之心肌梗塞之病患使用。\\n2.急性 Q 波心肌梗塞於症狀發生十二小時內，於執行 PTCA 時得併用 tirofiban。\\n2.1.1.4.Abciximab（如 ReoPro）：(90/7/1、100/7/1)\\n1.限不穩定型心絞痛，對傳統療法無反應者，已預定施行經冠狀動脈成形術之不\\n穩定狹心症時、作為 heparin 的輔助療法，或非 Q 波之心肌梗塞之病患使用。\\n2.急性 Q 波心肌梗塞於症狀發生十二小時內，於執行 PTCA 時得併用 abciximab。\\n2.1.1.5.Cilostazol（如 Pletaal）：(90/6/1、100/7/1、104/4/1、105/5/1)\\n1.使用於無休息時疼痛及周邊組織壞死之間歇性跛行病人（周邊動脈疾病\\nFontaine stage II），用於增加最大及無痛行走距離。\\n2.經生活模式改變及其他治療後，仍無法充分改善間歇性跛行症狀病人之二線治\\n療。\\n3.用於無法耐受 acetylsalicylic acid 且屬非心因性栓塞之腦梗塞患者，以預\\n防腦梗塞之再復發，並符合下列條件之一(105/5/1)：\\n(1)對 acetylsalicylic acid 過敏', metadata={})]"
      ]
     },
     "execution_count": 24,
     "metadata": {},
     "output_type": "execute_result"
    }
   ],
   "source": [
    "answer_docs"
   ]
  },
  {
   "cell_type": "code",
   "execution_count": 29,
   "metadata": {},
   "outputs": [
    {
     "name": "stdout",
     "output_type": "stream",
     "text": [
      "根據文件1，clopidogrel+aspirin的健保給付規定如下：\n",
      "\n",
      "1. 置放金屬支架3個月內得使用；置放塗藥支架6個月內得使用。需於病歷註明支架置放手術之日期。\n",
      "2. 置放金屬支架後發生支架內再狹窄而施行藥物釋放型冠狀動脈氣球導管者，1個月內得使用；置放塗藥支架後發生支架內再狹窄而施行藥物釋放型冠狀動脈氣球導管者，使用期間可再延長1個月。\n",
      "3. 用於已發作之急性冠心症(不穩定性心絞痛和心肌梗塞)而住院的病人時，最長9個月。需於病歷註明住院時間。\n",
      "\n",
      "需要注意的是，以上規定僅供參考，實際使用時應遵循醫師的處方和指示。\n"
     ]
    }
   ],
   "source": [
    "query = \"clopidogrel\"\n",
    "answer_docs = docsearch.similarity_search(query, include_metadata=True)\n",
    "question = \"clopidogrel+aspirin的健保給付規定\"\n",
    "response = answer_question(answer_docs[:2], question)\n",
    "print(response)"
   ]
  },
  {
   "cell_type": "code",
   "execution_count": 5,
   "metadata": {},
   "outputs": [
    {
     "name": "stdout",
     "output_type": "stream",
     "text": [
      "根據文件1，放置金屬支架後發生支架內再狹窄而施行藥物釋放型冠狀動脈氣球導管者，1個月內得使用；置放塗藥支架後發生支架內再狹窄而施行藥物釋放型冠狀動脈氣球導管者，使用期間可再延長1個月。因此，如果病人於111/05/12放置金屬支架後發生支架內再狹窄而施行藥物釋放型冠狀動脈氣球導管，則在112/06/12之前使用clopidogrel是符合健保給付規定的。但如果病人的情況不符合上述規定，則使用clopidogrel可能不符合健保給付規定。\n"
     ]
    }
   ],
   "source": [
    "query = '''clopidogrel'''\n",
    "answer_docs = docsearch.similarity_search(query, include_metadata=True)\n",
    "question = '''請根據clopidogrel的健保給付規定，檢視是否不符合給付規定，\n",
    "描述如下：今日是112/05/12，病人於111/05/12放置的金屬支架'''\n",
    "response = answer_question(answer_docs[:2], question)\n",
    "print(response)"
   ]
  },
  {
   "cell_type": "code",
   "execution_count": 28,
   "metadata": {},
   "outputs": [
    {
     "name": "stdout",
     "output_type": "stream",
     "text": [
      "根據健保給付規定，放置金屬支架後發生支架內再狹窄而施行藥物釋放型冠狀動脈氣球導管者，使用clopidogrel-acetylsalicylic acid的期間可以再延長1個月。因此，病人可以在2022/11/22前繼續使用clopidogrel-acetylsalicylic acid。\n"
     ]
    }
   ],
   "source": [
    "query = '''clopidogrel'''\n",
    "answer_docs = docsearch.similarity_search(query, include_metadata=True)\n",
    "question = '''請根據clopidogrel併用aspirin的健保給付規定來回答以下問題\n",
    "病人於2022/05/12放置的金屬支架，\n",
    "於2022/10/22發生支架內再狹窄而施行藥物釋放型冠狀動脈氣球導管者，\n",
    "請問他總共在哪些時候可以併用clopidogrel+aspirin\n",
    "'''\n",
    "response = answer_question(answer_docs[:2], question)\n",
    "print(response)"
   ]
  },
  {
   "cell_type": "code",
   "execution_count": 49,
   "metadata": {},
   "outputs": [
    {
     "name": "stdout",
     "output_type": "stream",
     "text": [
      "根據提供的文件，Clopidogrel-acetylsalicylic acid（如 CoPlavix）的健保給付規定如下：\n",
      "\n",
      "1. 置放金屬支架後的3個月內可使用。病人於2022/05/12放置金屬支架，因此可使用Clopidogrel+Aspirin的時間段為2022/05/12至2022/08/11。\n",
      "\n",
      "2. 置放金屬支架後發生支架內再狹窄而施行藥物釋放型冠狀動脈氣球導管者，1個月內可使用。病人於2022/10/22發生支架內再狹窄並施行冠狀動脈氣球導管，因此可使用Clopidogrel+Aspirin的時間段為2022/10/22至2022/11/21。\n",
      "\n",
      "綜合以上，病人能使用Clopidogrel+Aspirin的所有時間段為：\n",
      "\n",
      "1. 2022/05/12至2022/08/11\n",
      "2. 2022/10/22至2022/11/21\n"
     ]
    }
   ],
   "source": [
    "question = '''請根據clopidogrel+aspirin的健保給付規定來回答以下問題\n",
    "病人於2022/05/12放置的金屬支架，\n",
    "且又於2022/10/22發生支架內再狹窄而施行冠狀動脈氣球導管，\n",
    "請列出他能使用clopidogrel+aspirin的所有時間段\n",
    "'''\n",
    "response = answer_question(answer_docs[:2], question, useAzure =True)\n",
    "print(response)"
   ]
  },
  {
   "cell_type": "code",
   "execution_count": null,
   "metadata": {},
   "outputs": [],
   "source": []
  }
 ],
 "metadata": {
  "kernelspec": {
   "display_name": "Python 3 (ipykernel)",
   "language": "python",
   "name": "python3"
  },
  "language_info": {
   "codemirror_mode": {
    "name": "ipython",
    "version": 3
   },
   "file_extension": ".py",
   "mimetype": "text/x-python",
   "name": "python",
   "nbconvert_exporter": "python",
   "pygments_lexer": "ipython3",
   "version": "3.9.12"
  }
 },
 "nbformat": 4,
 "nbformat_minor": 2
}
